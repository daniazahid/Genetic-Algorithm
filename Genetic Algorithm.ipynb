{
  "nbformat": 4,
  "nbformat_minor": 0,
  "metadata": {
    "colab": {
      "name": "A03-17I-0175.ipynb",
      "provenance": [],
      "collapsed_sections": []
    },
    "kernelspec": {
      "name": "python3",
      "display_name": "Python 3"
    },
    "accelerator": "TPU"
  },
  "cells": [
    {
      "cell_type": "code",
      "metadata": {
        "id": "jvCaOC3Q7-qh"
      },
      "source": [
        "import random\n",
        "from random import randint\n",
        "import operator\n",
        "from typing import List, Callable, Tuple\n",
        "from collections import Counter \n",
        "from prettytable import PrettyTable"
      ],
      "execution_count": null,
      "outputs": []
    },
    {
      "cell_type": "code",
      "metadata": {
        "id": "tZnosJP8Kihn"
      },
      "source": [
        "def make_one_schedules(length,Section,Teacher,Room,Course,Day,Duration):\n",
        "    arr=[]\n",
        "    for i in range(0,length):\n",
        "        arr.append([random.choice(Teacher),random.choice(Course),random.choice(Section),random.choice(Day),random.choice(Duration),random.choice(Room)])\n",
        "    return arr\n",
        "def initialize_population(size,length,Section,Teacher,Room,Course,Day,Duration):\n",
        "    for i in range(0,size):\n",
        "        schedules.append(make_one_schedules(length,Section,Teacher,Room,Course,Day,Duration))\n",
        "    return schedules"
      ],
      "execution_count": null,
      "outputs": []
    },
    {
      "cell_type": "code",
      "metadata": {
        "id": "XIWIFZeqvV7F"
      },
      "source": [
        "def evaluate_fitness(schedule):\n",
        "    fitness=0\n",
        "    conflict=0\n",
        "    h1=0\n",
        "    h2=0\n",
        "    h3=0\n",
        "    h4=0\n",
        "    h5=0\n",
        "    s1=0\n",
        "    for i in range(0,len(schedule)-1):\n",
        "        if(schedule[i][4]=='07:00 AM' or schedule[i][4]=='05:00 PM' or schedule[i][4]=='05:30 PM'): #Hard--There will be no class before 8:30 am and after 5:00 pm.\n",
        "            h1=h1+1\n",
        "        \n",
        "        if(schedule[i][4]=='01:00 PM' and schedule[i][3]=='Friday'):  #Soft--There will be no class from 1-2 on Friday.\n",
        "            s1=s1+1\n",
        "\n",
        "        if(schedule[i][3]=='Sunday' or schedule[i][3]=='Saturday'): #Hard--University will remain close as there will be no class on weekends (Sat, Sun)\n",
        "            h2=h2+1\n",
        "\n",
        "    j=1\n",
        "                                      #Hard--No teacher can hold two classes at the same time\n",
        "    for k in range(0,7):\n",
        "        if(j==7):\n",
        "            break\n",
        "        else:\n",
        "            for j in range(k+1,7):\n",
        "                if(schedule[k][0] ==schedule[j][0] and schedule[k][4]== schedule[j][4] and schedule[k][3]== schedule[j][3]):\n",
        "                    h3=h3+1\n",
        "\n",
        "\n",
        "    j=1\n",
        "    clashes=dict ()                             #Hard--No classroom can receive two classes at the same time\n",
        "    for k in range(0,7):\n",
        "        if(j==7):\n",
        "            break\n",
        "        else:\n",
        "            for j in range(k+1,7):\n",
        "                if(schedule[k][4] ==schedule[j][4] and schedule[k][5]== schedule[j][5] and schedule[k][3]== schedule[j][3]):\n",
        "                    h4=h4+1\n",
        "\n",
        "    j=1\n",
        "    Section_listen=dict ()                             #Hard--No section can listen for two classes at the same time\n",
        "    for k in range(0,7):\n",
        "        if(j==7):\n",
        "            break\n",
        "        else:\n",
        "            for j in range(k+1,7):\n",
        "                if(schedule[k][4] ==schedule[j][4] and schedule[k][3]== schedule[j][3] and schedule[k][2]== schedule[j][2]):\n",
        "                    h5=h5+1\n",
        "\n",
        "    conflict=h1+h2+h3+h4+h5+s1\n",
        "    if (conflict==0):\n",
        "        fitness=3\n",
        "    else:\n",
        "        fitness=(1/conflict)\n",
        "    return fitness\n",
        "\n"
      ],
      "execution_count": null,
      "outputs": []
    },
    {
      "cell_type": "code",
      "metadata": {
        "id": "F9BAfU14xFff"
      },
      "source": [
        "def roulette_wheel(schedules):\n",
        "    cal_fit=dict ()\n",
        "    p=[]\n",
        "    fitness_sum=0\n",
        "    for i in range(0,len(schedules)):\n",
        "        f=evaluate_fitness(schedules[i])\n",
        "        p.append(f)\n",
        "        cal_fit[i]=f\n",
        "        fitness_sum+=evaluate_fitness(schedules[i])\n",
        "    \n",
        "    sorted_d = dict (sorted(cal_fit.items(), key=operator.itemgetter(1))) #value is fitness and key is schedule\n",
        "    \n",
        "    r = random.uniform(0,fitness_sum)\n",
        "    partial_sum = 0\n",
        "    for i in range(len(schedules)): #Roulette Selection Complete\n",
        "        partial_sum += p[i]\n",
        "        if partial_sum > r:\n",
        "            return schedules[i]\n"
      ],
      "execution_count": null,
      "outputs": []
    },
    {
      "cell_type": "code",
      "metadata": {
        "id": "JaMhJV9EK0hr"
      },
      "source": [
        "def single_point_crossover(a, b):\n",
        "    if len(a) != len(b):\n",
        "        raise ValueError(\"Both Parents a and b must be of equal length\")\n",
        "    length = len(a[0])\n",
        "    if len(a)<2:\n",
        "        split = randint(1, length-1)\n",
        "        return a[0:split] + b[split:], b[0:split] + a[split:]\n",
        "    \n",
        "    split = randint(1, length-1)\n",
        "    return a[0:split] + b[split:], b[0:split] + a[split:]"
      ],
      "execution_count": null,
      "outputs": []
    },
    {
      "cell_type": "code",
      "metadata": {
        "id": "fnRmY78_b1Rk"
      },
      "source": [
        "def mutation(child,section,teacher,room,course,day,duration):\n",
        "    Mutation_rate=0.5\n",
        "    m=random.random()\n",
        "    if(m<Mutation_rate): #no mutation\n",
        "        return child\n",
        "    r1=randint(0,5)\n",
        "    r2=randint(0,len(child)-1)\n",
        "    if (r1==0):\n",
        "        child[r2][0]=random.choice(teacher)\n",
        "    elif (r1==1):\n",
        "        child[r2][1]=random.choice(course)\n",
        "    elif (r1==2):\n",
        "        child[r2][2]=random.choice(section)\n",
        "    elif (r1==3):\n",
        "        child[r2][3]=random.choice(day)\n",
        "    elif (r1==4):\n",
        "        child[r2][4]=random.choice(duration)\n",
        "    elif (r1==5):\n",
        "        child[r2][5]=random.choice(room)\n",
        "    \n",
        "    return child"
      ],
      "execution_count": null,
      "outputs": []
    },
    {
      "cell_type": "code",
      "metadata": {
        "id": "YiplsdbaNZUG"
      },
      "source": [
        "def genetic_algorithm(size,length,generation_limit):\n",
        "    # Data \n",
        "    Section=['A','B','C','D','E']\n",
        "    Teacher=['T1- Sir Bilal Khalid','T2- Sir Kashif Munir','T3- Maam Amna Basharat','T4- Dr Omer Beg','T5- Dr Irum Inayat']\n",
        "    Course=['330 Maths','440 English','331 Intro to Computing','335 Applied Physics','160 Bioinformatics']\n",
        "    Day=['Monday','Tuesday','Wednesday','Thursday','Friday','Saturday','Sunday']\n",
        "    Duration=['07:00 AM','08:30 AM','09:30 AM','11:00 AM','12:00 PM','01:00 PM','02:00 PM','03:00 PM','04:00 PM','05:00 PM']\n",
        "    Room=['R1','R2','R3','R4','R5']\n",
        "    schedule=list()\n",
        "    schedules=[]\n",
        "    array=[]\n",
        "    next_generation=list()\n",
        "    cal_fit=dict ()\n",
        "    for i in range(0,generation_limit):\n",
        "        population=initialize_population(size,length,Section,Teacher,Room,Course,Day,Duration)\n",
        "        for i in range(0,int(len(population)/2)):\n",
        "            a=roulette_wheel(population)\n",
        "            b=roulette_wheel(population)\n",
        "            child_a,child_b=single_point_crossover(a,b)\n",
        "            child_a=mutation(child_a,Section,Teacher,Room,Course,Day,Duration)\n",
        "            child_b=mutation(child_b,Section,Teacher,Room,Course,Day,Duration)\n",
        "            next_generation.append(child_a)\n",
        "            next_generation.append(child_b)\n",
        "        population=next_generation\n",
        "    \n",
        "    for i in range(0,len(population)):\n",
        "        f=evaluate_fitness(population[i])\n",
        "        cal_fit[i]=f\n",
        "    \n",
        "    sorted_pop = dict (sorted(cal_fit.items(), key=operator.itemgetter(1)))\n",
        "    k = Counter(sorted_pop) \n",
        "    optimal_solution = k.most_common(1)\n",
        "    for i in optimal_solution: \n",
        "        return (population[i[0]])\n"
      ],
      "execution_count": null,
      "outputs": []
    },
    {
      "cell_type": "code",
      "metadata": {
        "id": "V0pt03PKVLK4"
      },
      "source": [
        "def display(solution,length):\n",
        "    table=PrettyTable([\"Professor\",\"Course\",\"Section\",\"Day\",\"Duration(Start time)\",\"Room No\"])\n",
        "    for i in range(length):\n",
        "        temp=solution[i]\n",
        "        table.add_row([temp[0],temp[1],temp[2],temp[3],temp[4],temp[5]])\n",
        "    print(table)\n"
      ],
      "execution_count": null,
      "outputs": []
    },
    {
      "cell_type": "code",
      "metadata": {
        "id": "XZNImCrjRZR8",
        "colab": {
          "base_uri": "https://localhost:8080/"
        },
        "outputId": "828eac79-4fef-470a-abd3-24d5d71c54e9"
      },
      "source": [
        "size=8   #size of population or schedules\n",
        "length=7 # length of chromosome or one schedule\n",
        "generation_limit=10 \n",
        "solution=genetic_algorithm(size,length,generation_limit) #final optimal solution with the greatest fitness value\n",
        "display(solution,length)\n"
      ],
      "execution_count": null,
      "outputs": [
        {
          "output_type": "stream",
          "text": [
            "+------------------------+------------------------+---------+----------+----------------------+---------+\n",
            "|       Professor        |         Course         | Section |   Day    | Duration(Start time) | Room No |\n",
            "+------------------------+------------------------+---------+----------+----------------------+---------+\n",
            "|    T4- Dr Omer Beg     |   160 Bioinformatics   |    E    | Thursday |       04:00 PM       |    R1   |\n",
            "|  T1- Sir Bilal Khalid  | 331 Intro to Computing |    A    | Tuesday  |       04:00 PM       |    R4   |\n",
            "|  T2- Sir Kashif Munir  | 331 Intro to Computing |    C    |  Monday  |       09:30 AM       |    R4   |\n",
            "|    T4- Dr Omer Beg     |      440 English       |    A    | Tuesday  |       03:00 PM       |    R2   |\n",
            "| T3- Maam Amna Basharat |  335 Applied Physics   |    D    | Thursday |       12:00 PM       |    R3   |\n",
            "|  T1- Sir Bilal Khalid  |      440 English       |    D    |  Friday  |       08:30 AM       |    R4   |\n",
            "|  T2- Sir Kashif Munir  |       330 Maths        |    E    |  Friday  |       09:30 AM       |    R1   |\n",
            "+------------------------+------------------------+---------+----------+----------------------+---------+\n"
          ],
          "name": "stdout"
        }
      ]
    },
    {
      "cell_type": "code",
      "metadata": {
        "id": "qiBCax5JeOiT"
      },
      "source": [
        ""
      ],
      "execution_count": null,
      "outputs": []
    }
  ]
}